{
 "cells": [
  {
   "cell_type": "markdown",
   "id": "6617fa5a",
   "metadata": {},
   "source": [
    "#### Урок 11. Jupyter Notebook и несколько слов об аналитике\n",
    "f(x) = x^3 - 6x^2 + 4x + 12 \n",
    "\n",
    "\n",
    "(или 5x^3 - x^2 - 20x + 4)\n",
    "**f(x) = -12x^4*sin(cos(x)) - 18x^3+5x^2 + 10x - 30\n",
    "\n",
    "1. Определить корни\n",
    "\n",
    "2. Найти интервалы, на которых функция возрастает\n",
    "\n",
    "3. Найти интервалы, на которых функция убывает\n",
    "\n",
    "4. Построить график\n",
    "\n",
    "5. Вычислить вершину\n",
    "\n",
    "6. Определить промежутки, на котором f > 0\n",
    "\n",
    "7. Определить промежутки, на котором f < 0\n"
   ]
  },
  {
   "cell_type": "code",
   "execution_count": 1,
   "id": "766b6aac",
   "metadata": {},
   "outputs": [],
   "source": [
    "import numpy as np\n",
    "from math import sqrt\n",
    "import matplotlib.pyplot as plt\n",
    "from sympy import *"
   ]
  },
  {
   "cell_type": "markdown",
   "id": "a9f3644a",
   "metadata": {},
   "source": [
    "запись многочлена в виде коэффициентов"
   ]
  },
  {
   "cell_type": "code",
   "execution_count": 65,
   "id": "2943f898",
   "metadata": {},
   "outputs": [],
   "source": [
    "n= [1,-6, 4, 12]"
   ]
  },
  {
   "cell_type": "markdown",
   "id": "111aee6c",
   "metadata": {},
   "source": [
    "1. Определение корней многочлена"
   ]
  },
  {
   "cell_type": "code",
   "execution_count": 66,
   "id": "6dfbc14a",
   "metadata": {},
   "outputs": [
    {
     "data": {
      "text/plain": [
       "(4.534070196722726, 2.5173040450083075, -1.051374241731037)"
      ]
     },
     "execution_count": 66,
     "metadata": {},
     "output_type": "execute_result"
    }
   ],
   "source": [
    "x1, x2, x3 = np.roots(n)\n",
    "x1, x2, x3"
   ]
  },
  {
   "cell_type": "markdown",
   "id": "92434f83",
   "metadata": {},
   "source": [
    "2. Найти интервалы, на которых функция возрастает"
   ]
  },
  {
   "cell_type": "code",
   "execution_count": 67,
   "id": "722e0388",
   "metadata": {},
   "outputs": [
    {
     "data": {
      "text/plain": [
       "array([  3, -12,   4])"
      ]
     },
     "execution_count": 67,
     "metadata": {},
     "output_type": "execute_result"
    }
   ],
   "source": [
    "np.polyder(n)"
   ]
  },
  {
   "cell_type": "code",
   "execution_count": 9,
   "id": "92837cbf",
   "metadata": {},
   "outputs": [
    {
     "data": {
      "text/plain": [
       "(3.6329931618554525, 0.3670068381445479)"
      ]
     },
     "execution_count": 9,
     "metadata": {},
     "output_type": "execute_result"
    }
   ],
   "source": [
    "x_1, x_2 = np.roots(np.polyder(n))\n",
    "x_1, x_2"
   ]
  },
  {
   "cell_type": "code",
   "execution_count": 10,
   "id": "01c50511",
   "metadata": {},
   "outputs": [
    {
     "data": {
      "text/plain": [
       "-4.709296863229078"
      ]
     },
     "execution_count": 10,
     "metadata": {},
     "output_type": "execute_result"
    }
   ],
   "source": [
    "np.polyval(n, x_1)"
   ]
  },
  {
   "cell_type": "code",
   "execution_count": 15,
   "id": "f41b03d5",
   "metadata": {},
   "outputs": [
    {
     "data": {
      "text/plain": [
       "11"
      ]
     },
     "execution_count": 15,
     "metadata": {},
     "output_type": "execute_result"
    }
   ],
   "source": [
    " \n",
    "x=1\n",
    "y = x**3 - 6*x**2 + 4*x + 12\n",
    "y\n"
   ]
  },
  {
   "cell_type": "markdown",
   "id": "abfd576d",
   "metadata": {},
   "source": [
    "x=0:    y=12\n",
    "x=0.3:  y=12.687\n",
    "x_1\n",
    "x=1:    y=11\n",
    "x=3:    y=-3\n",
    "x_2\n",
    "x=5:    y=7\n",
    "x=6:    y=36\n",
    "\n",
    "\n",
    "функция возрастает на промежутках:\n",
    "(-∞; 0.3670068381445479) & (3.6329931618554525, ∞)"
   ]
  },
  {
   "cell_type": "markdown",
   "id": "3acd2d6c",
   "metadata": {},
   "source": [
    "3. Найти интервалы, на которых функция убывает\n",
    "функция убывает на промежутках:\n",
    "(0.3670068381445479; 3.6329931618554525)"
   ]
  },
  {
   "cell_type": "markdown",
   "id": "e818c04e",
   "metadata": {},
   "source": [
    "4. Построить график"
   ]
  },
  {
   "cell_type": "code",
   "execution_count": 62,
   "id": "668447c5",
   "metadata": {},
   "outputs": [],
   "source": [
    "z=list(range(-3,10))\n",
    "fz =[x**3 - 6*x**2 + 4*x + 12 for x in z]"
   ]
  },
  {
   "cell_type": "code",
   "execution_count": 63,
   "id": "36ffabdc",
   "metadata": {
    "scrolled": true
   },
   "outputs": [
    {
     "data": {
      "image/png": "[encoded data removed]",
      "text/plain": [
       "<Figure size 640x480 with 1 Axes>"
      ]
     },
     "metadata": {},
     "output_type": "display_data"
    }
   ],
   "source": [
    "plt.axes(facecolor='white')\n",
    "plt.plot(z, fz)\n",
    "plt.show()"
   ]
  },
  {
   "cell_type": "markdown",
   "id": "7c526283",
   "metadata": {},
   "source": [
    "5. Вычислить вершину"
   ]
  },
  {
   "cell_type": "code",
   "execution_count": 72,
   "id": "8d820ffe",
   "metadata": {},
   "outputs": [
    {
     "data": {
      "text/plain": [
       "((3.6329931618554525, -4.709296863229078),\n",
       " (0.3670068381445479, 12.709296863229078))"
      ]
     },
     "execution_count": 72,
     "metadata": {},
     "output_type": "execute_result"
    }
   ],
   "source": [
    "x_1, x_2 = np.roots(np.polyder(n))\n",
    "(x_1, np.polyval(n, x_1)), (x_2, np.polyval(n, x_2))"
   ]
  },
  {
   "cell_type": "markdown",
   "id": "b28d41c2",
   "metadata": {},
   "source": [
    "6. Определить промежутки, на котором f > 0\n"
   ]
  },
  {
   "cell_type": "code",
   "execution_count": 139,
   "id": "b6c2b6a1",
   "metadata": {},
   "outputs": [
    {
     "data": {
      "text/plain": [
       "(-1.051374241731037, 2.5173040450083075)"
      ]
     },
     "execution_count": 139,
     "metadata": {},
     "output_type": "execute_result"
    }
   ],
   "source": [
    "x1, x2, x3 = np.roots(n)\n",
    "(x3, x2)\n"
   ]
  },
  {
   "cell_type": "code",
   "execution_count": 135,
   "id": "80c009a7",
   "metadata": {},
   "outputs": [
    {
     "data": {
      "text/plain": [
       "(4.534070196722726, '∞')"
      ]
     },
     "execution_count": 135,
     "metadata": {},
     "output_type": "execute_result"
    }
   ],
   "source": [
    "x1, x2, x3 = np.roots(n)\n",
    "(x1, \"∞\")"
   ]
  },
  {
   "cell_type": "markdown",
   "id": "9d316fed",
   "metadata": {},
   "source": [
    "7. Определить промежутки, на котором f < 0"
   ]
  },
  {
   "cell_type": "code",
   "execution_count": 136,
   "id": "634db738",
   "metadata": {},
   "outputs": [
    {
     "data": {
      "text/plain": [
       "('-∞', -1.051374241731037)"
      ]
     },
     "execution_count": 136,
     "metadata": {},
     "output_type": "execute_result"
    }
   ],
   "source": [
    "x1, x2, x3 = np.roots(n)\n",
    "(\"-∞\" ,x3)"
   ]
  },
  {
   "cell_type": "code",
   "execution_count": 141,
   "id": "161111a2",
   "metadata": {},
   "outputs": [
    {
     "data": {
      "text/plain": [
       "(2.5173040450083075, 4.534070196722726)"
      ]
     },
     "execution_count": 141,
     "metadata": {},
     "output_type": "execute_result"
    }
   ],
   "source": [
    "x1, x2, x3 = np.roots(n)\n",
    "(x2 ,x1)"
   ]
  }
 ],
 "metadata": {
  "kernelspec": {
   "display_name": "Python 3 (ipykernel)",
   "language": "python",
   "name": "python3"
  },
  "language_info": {
   "codemirror_mode": {
    "name": "ipython",
    "version": 3
   },
   "file_extension": ".py",
   "mimetype": "text/x-python",
   "name": "python",
   "nbconvert_exporter": "python",
   "pygments_lexer": "ipython3",
   "version": "3.9.13"
  }
 },
 "nbformat": 4,
 "nbformat_minor": 5
}
